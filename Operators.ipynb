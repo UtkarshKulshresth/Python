{
 "cells": [
  {
   "cell_type": "markdown",
   "metadata": {},
   "source": [
    "## Arithmatic Operators"
   ]
  },
  {
   "cell_type": "code",
   "execution_count": 1,
   "metadata": {
    "collapsed": false
   },
   "outputs": [
    {
     "name": "stdout",
     "output_type": "stream",
     "text": [
      "x + y = 19\n",
      "x - y = 11\n",
      "x * y = 60\n",
      "x / y = 3.75\n",
      "x // y = 3\n",
      "x ** y = 50625\n"
     ]
    }
   ],
   "source": [
    "x = 15\n",
    "y = 4\n",
    "\n",
    "# Output: x + y = 19\n",
    "print('x + y =',x+y)\n",
    "\n",
    "# Output: x - y = 11\n",
    "print('x - y =',x-y)\n",
    "\n",
    "# Output: x * y = 60\n",
    "print('x * y =',x*y)\n",
    "\n",
    "# Output: x / y = 3.75\n",
    "print('x / y =',x/y)\n",
    "\n",
    "# Output: x // y = 3\n",
    "print('x // y =',x//y)\n",
    "\n",
    "# Output: x ** y = 50625\n",
    "print('x ** y =',x**y)"
   ]
  },
  {
   "cell_type": "markdown",
   "metadata": {},
   "source": [
    "## Comparison Operators"
   ]
  },
  {
   "cell_type": "code",
   "execution_count": 2,
   "metadata": {
    "collapsed": false
   },
   "outputs": [
    {
     "name": "stdout",
     "output_type": "stream",
     "text": [
      "x > y  is False\n",
      "x < y  is True\n",
      "x == y is False\n",
      "x != y is True\n",
      "x >= y is False\n",
      "x <= y is True\n"
     ]
    }
   ],
   "source": [
    "x = 10\n",
    "y = 12\n",
    "\n",
    "# Output: x > y is False\n",
    "print('x > y  is',x>y)\n",
    "\n",
    "# Output: x < y is True\n",
    "print('x < y  is',x<y)\n",
    "\n",
    "# Output: x == y is False\n",
    "print('x == y is',x==y)\n",
    "\n",
    "# Output: x != y is True\n",
    "print('x != y is',x!=y)\n",
    "\n",
    "# Output: x >= y is False\n",
    "print('x >= y is',x>=y)\n",
    "\n",
    "# Output: x <= y is True\n",
    "print('x <= y is',x<=y)"
   ]
  },
  {
   "cell_type": "markdown",
   "metadata": {},
   "source": [
    "## Assignment Operators"
   ]
  },
  {
   "cell_type": "code",
   "execution_count": 9,
   "metadata": {
    "collapsed": false
   },
   "outputs": [
    {
     "name": "stdout",
     "output_type": "stream",
     "text": [
      "Line 1 - Value of c is  31\n",
      "Line 2 - Value of c is  52\n",
      "Line 3 - Value of c is  1092\n",
      "Line 4 - Value of c is  52.0\n",
      "Line 5 - Value of c is  2\n",
      "Line 6 - Value of c is  2097152\n",
      "Line 7 - Value of c is  99864\n"
     ]
    }
   ],
   "source": [
    "a = 21\n",
    "b = 10\n",
    "c = 0\n",
    "\n",
    "c = a + b\n",
    "print (\"Line 1 - Value of c is \", c)\n",
    "\n",
    "c += a\n",
    "print (\"Line 2 - Value of c is \", c)\n",
    "\n",
    "c *= a\n",
    "print (\"Line 3 - Value of c is \", c) \n",
    "\n",
    "c /= a \n",
    "print (\"Line 4 - Value of c is \", c )\n",
    "\n",
    "c  = 2\n",
    "c %= a\n",
    "print (\"Line 5 - Value of c is \", c)\n",
    "\n",
    "c **= a\n",
    "print (\"Line 6 - Value of c is \", c)\n",
    "\n",
    "c //= a\n",
    "print (\"Line 7 - Value of c is \", c)"
   ]
  },
  {
   "cell_type": "markdown",
   "metadata": {},
   "source": [
    "## Logical Operators"
   ]
  },
  {
   "cell_type": "code",
   "execution_count": 5,
   "metadata": {
    "collapsed": false
   },
   "outputs": [
    {
     "name": "stdout",
     "output_type": "stream",
     "text": [
      "x and y is False\n",
      "x or y is True\n",
      "not x is False\n"
     ]
    }
   ],
   "source": [
    "x = True\n",
    "y = False\n",
    "\n",
    "# Output: x and y is False\n",
    "print('x and y is',x and y)\n",
    "\n",
    "# Output: x or y is True\n",
    "print('x or y is',x or y)\n",
    "\n",
    "# Output: not x is False\n",
    "print('not x is',not x)"
   ]
  },
  {
   "cell_type": "markdown",
   "metadata": {},
   "source": [
    "## Bitwise Operators"
   ]
  },
  {
   "cell_type": "code",
   "execution_count": 10,
   "metadata": {
    "collapsed": false
   },
   "outputs": [
    {
     "name": "stdout",
     "output_type": "stream",
     "text": [
      "Line 1 - Value of c is  12\n",
      "Line 2 - Value of c is  61\n",
      "Line 3 - Value of c is  49\n",
      "Line 4 - Value of c is  -61\n",
      "Line 5 - Value of c is  240\n",
      "Line 6 - Value of c is  15\n"
     ]
    }
   ],
   "source": [
    "a = 60            # 60 = 0011 1100 \n",
    "b = 13            # 13 = 0000 1101 \n",
    "c = 0\n",
    "\n",
    "c = a & b;        # 12 = 0000 1100\n",
    "print (\"Line 1 - Value of c is \", c)\n",
    "\n",
    "c = a | b;        # 61 = 0011 1101 \n",
    "print (\"Line 2 - Value of c is \", c)\n",
    "\n",
    "c = a ^ b;        # 49 = 0011 0001\n",
    "print (\"Line 3 - Value of c is \", c)\n",
    "\n",
    "c = ~a;           # -61 = 1100 0011\n",
    "print (\"Line 4 - Value of c is \", c)\n",
    "\n",
    "c = a << 2;       # 240 = 1111 0000\n",
    "print (\"Line 5 - Value of c is \", c)\n",
    "\n",
    "c = a >> 2;       # 15 = 0000 1111\n",
    "print (\"Line 6 - Value of c is \", c)"
   ]
  },
  {
   "cell_type": "markdown",
   "metadata": {},
   "source": [
    "## Identity Operators"
   ]
  },
  {
   "cell_type": "code",
   "execution_count": 6,
   "metadata": {
    "collapsed": false
   },
   "outputs": [
    {
     "name": "stdout",
     "output_type": "stream",
     "text": [
      "False\n",
      "True\n",
      "False\n"
     ]
    }
   ],
   "source": [
    "x1 = 5\n",
    "y1 = 5\n",
    "x2 = 'Hello'\n",
    "y2 = 'Hello'\n",
    "x3 = [1,2,3]\n",
    "y3 = [1,2,3]\n",
    "\n",
    "# Output: False\n",
    "print(x1 is not y1)\n",
    "\n",
    "# Output: True\n",
    "print(x2 is y2)\n",
    "\n",
    "# Output: False\n",
    "print(x3 is y3)"
   ]
  },
  {
   "cell_type": "markdown",
   "metadata": {},
   "source": [
    "## Membership Operators"
   ]
  },
  {
   "cell_type": "code",
   "execution_count": 8,
   "metadata": {
    "collapsed": false
   },
   "outputs": [
    {
     "name": "stdout",
     "output_type": "stream",
     "text": [
      "True\n",
      "True\n",
      "True\n",
      "False\n"
     ]
    }
   ],
   "source": [
    "x = 'Hello world'\n",
    "y = {1:'a',2:'b'}\n",
    "\n",
    "# Output: True\n",
    "print('H' in x)\n",
    "\n",
    "# Output: True\n",
    "print('hello' not in x)\n",
    "\n",
    "# Output: True\n",
    "print(1 in y)\n",
    "\n",
    "# Output: False\n",
    "print('a' in y)"
   ]
  },
  {
   "cell_type": "markdown",
   "metadata": {},
   "source": [
    "## Operator Precedence"
   ]
  },
  {
   "cell_type": "code",
   "execution_count": 11,
   "metadata": {
    "collapsed": false
   },
   "outputs": [
    {
     "name": "stdout",
     "output_type": "stream",
     "text": [
      "Value of (a + b) * c / d is  90.0\n",
      "Value of ((a + b) * c) / d is  90.0\n",
      "Value of (a + b) * (c / d) is  90.0\n",
      "Value of a + (b * c) / d is  50.0\n"
     ]
    }
   ],
   "source": [
    "a = 20\n",
    "b = 10\n",
    "c = 15\n",
    "d = 5\n",
    "e = 0\n",
    "\n",
    "e = (a + b) * c / d       #( 30 * 15 ) / 5\n",
    "print (\"Value of (a + b) * c / d is \",  e)\n",
    "\n",
    "e = ((a + b) * c) / d     # (30 * 15 ) / 5\n",
    "print (\"Value of ((a + b) * c) / d is \",  e)\n",
    "\n",
    "e = (a + b) * (c / d);    # (30) * (15/5)\n",
    "print (\"Value of (a + b) * (c / d) is \",  e)\n",
    "\n",
    "e = a + (b * c) / d;      #  20 + (150/5)\n",
    "print (\"Value of a + (b * c) / d is \",  e)"
   ]
  },
  {
   "cell_type": "markdown",
   "metadata": {
    "collapsed": true
   },
   "source": [
    "### Swap the two numbers without using temporary variable"
   ]
  },
  {
   "cell_type": "code",
   "execution_count": 12,
   "metadata": {
    "collapsed": false
   },
   "outputs": [
    {
     "name": "stdout",
     "output_type": "stream",
     "text": [
      "Enter value of first variable: 5\n",
      "Enter value of second variable: 4\n",
      "a is: 4  b is: 5\n"
     ]
    }
   ],
   "source": [
    "a=int(input(\"Enter value of first variable: \"))\n",
    "b=int(input(\"Enter value of second variable: \"))\n",
    "a=a+b\n",
    "b=a-b\n",
    "a=a-b\n",
    "print(\"a is:\",a,\" b is:\",b)"
   ]
  },
  {
   "cell_type": "markdown",
   "metadata": {
    "collapsed": true
   },
   "source": [
    "### Print the odd numbers within the particular range"
   ]
  },
  {
   "cell_type": "code",
   "execution_count": 13,
   "metadata": {
    "collapsed": false
   },
   "outputs": [
    {
     "name": "stdout",
     "output_type": "stream",
     "text": [
      "Enter the lower limit for the range:1\n",
      "Enter the upper limit for the range:50\n",
      "1\n",
      "3\n",
      "5\n",
      "7\n",
      "9\n",
      "11\n",
      "13\n",
      "15\n",
      "17\n",
      "19\n",
      "21\n",
      "23\n",
      "25\n",
      "27\n",
      "29\n",
      "31\n",
      "33\n",
      "35\n",
      "37\n",
      "39\n",
      "41\n",
      "43\n",
      "45\n",
      "47\n",
      "49\n"
     ]
    }
   ],
   "source": [
    "lower=int(input(\"Enter the lower limit for the range:\"))\n",
    "upper=int(input(\"Enter the upper limit for the range:\"))\n",
    "for i in range(lower,upper+1):\n",
    "    if(i%2!=0):\n",
    "        print(i)"
   ]
  },
  {
   "cell_type": "code",
   "execution_count": 10,
   "metadata": {
    "collapsed": false
   },
   "outputs": [
    {
     "name": "stdout",
     "output_type": "stream",
     "text": [
      "a is b\n",
      "a is not c\n",
      "b is not c\n"
     ]
    }
   ],
   "source": [
    "a = 'London'\n",
    "b = 'London'\n",
    "c = 'Paris'\n",
    "\n",
    "if a is b: print ('a is b')\n",
    "else: print ('a is not b')\n",
    "\n",
    "if a is c: print('a is c')\n",
    "else: print ('a is not c')\n",
    "\n",
    "if b is c: print('b is c')\n",
    "else: print ('b is not c')"
   ]
  },
  {
   "cell_type": "code",
   "execution_count": null,
   "metadata": {
    "collapsed": true
   },
   "outputs": [],
   "source": []
  }
 ],
 "metadata": {
  "kernelspec": {
   "display_name": "Python 3",
   "language": "python",
   "name": "python3"
  },
  "language_info": {
   "codemirror_mode": {
    "name": "ipython",
    "version": 3
   },
   "file_extension": ".py",
   "mimetype": "text/x-python",
   "name": "python",
   "nbconvert_exporter": "python",
   "pygments_lexer": "ipython3",
   "version": "3.6.0"
  }
 },
 "nbformat": 4,
 "nbformat_minor": 2
}
