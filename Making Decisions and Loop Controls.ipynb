{
 "cells": [
  {
   "cell_type": "markdown",
   "metadata": {},
   "source": [
    "# IF Statement"
   ]
  },
  {
   "cell_type": "code",
   "execution_count": 2,
   "metadata": {
    "collapsed": false
   },
   "outputs": [
    {
     "name": "stdout",
     "output_type": "stream",
     "text": [
      "Number is greater\n"
     ]
    }
   ],
   "source": [
    "num = 100\n",
    "\n",
    "if num > 10:\n",
    "    print (\"Number is greater\")"
   ]
  },
  {
   "cell_type": "markdown",
   "metadata": {},
   "source": [
    "# IF - ELSE Statement"
   ]
  },
  {
   "cell_type": "code",
   "execution_count": 4,
   "metadata": {
    "collapsed": false
   },
   "outputs": [
    {
     "name": "stdout",
     "output_type": "stream",
     "text": [
      "Enter the First number:10\n",
      "Enter the Second number:20\n",
      "Second number is greater\n"
     ]
    }
   ],
   "source": [
    "a = input(\"Enter the First number:\")\n",
    "b = input(\"Enter the Second number:\")\n",
    "\n",
    "if a > b:\n",
    "    print(\"First number is greater\")\n",
    "else:\n",
    "    print(\"Second number is greater\")"
   ]
  },
  {
   "cell_type": "markdown",
   "metadata": {},
   "source": [
    "#  Nested IF"
   ]
  },
  {
   "cell_type": "code",
   "execution_count": 5,
   "metadata": {
    "collapsed": false
   },
   "outputs": [
    {
     "name": "stdout",
     "output_type": "stream",
     "text": [
      "Enter a number: 10\n",
      "Enter another number: 10\n",
      "Both number is equal\n"
     ]
    }
   ],
   "source": [
    "a = input(\"Enter a number: \")  \n",
    "b = input(\"Enter another number: \")  \n",
    "\n",
    "if a > b:   \n",
    "    print(\"First number is greater then Second number\")\n",
    "elif a == b:  \n",
    "    print(\"Both number is equal\")\n",
    "else:  \n",
    "    print(\"Second number is greater than First number\")"
   ]
  },
  {
   "cell_type": "code",
   "execution_count": 8,
   "metadata": {
    "collapsed": false
   },
   "outputs": [
    {
     "name": "stdout",
     "output_type": "stream",
     "text": [
      "Enter a number: 50\n",
      "Positive number\n"
     ]
    }
   ],
   "source": [
    "num = float(input(\"Enter a number: \"))\n",
    "if num >= 0:\n",
    "    if num == 0:\n",
    "        print(\"Zero\")\n",
    "    else:\n",
    "        print(\"Positive number\")\n",
    "else:\n",
    "    print(\"Negative number\")"
   ]
  },
  {
   "cell_type": "markdown",
   "metadata": {},
   "source": [
    "### Write a Program to check wether the input string is a lowercase or uppercase"
   ]
  },
  {
   "cell_type": "code",
   "execution_count": 19,
   "metadata": {
    "collapsed": false
   },
   "outputs": [
    {
     "name": "stdout",
     "output_type": "stream",
     "text": [
      "Enter the string:Utkarsh\n",
      "Uppercase\n"
     ]
    }
   ],
   "source": [
    "myString = input(\"Enter the string:\")\n",
    "\n",
    "if myString.islower() == True:\n",
    "    print(\"Lowercase\")\n",
    "else:\n",
    "    print(\"Uppercase\")"
   ]
  },
  {
   "cell_type": "code",
   "execution_count": 18,
   "metadata": {
    "collapsed": false
   },
   "outputs": [
    {
     "name": "stdout",
     "output_type": "stream",
     "text": [
      "Enter the string:hi\n",
      "h\n",
      "i\n"
     ]
    }
   ],
   "source": [
    "myString = input(\"Enter the string:\")\n",
    "\n",
    "for character in myString:\n",
    "    if character.islower():\n",
    "        print(character)"
   ]
  },
  {
   "cell_type": "code",
   "execution_count": 20,
   "metadata": {
    "collapsed": false
   },
   "outputs": [
    {
     "name": "stdout",
     "output_type": "stream",
     "text": [
      "myString1 is Not Uppercase\n",
      "myString2 is uppercase\n"
     ]
    }
   ],
   "source": [
    "myString1 = \"I am Studying in LearnBay\"\n",
    "\n",
    "if myString1.isupper() == True:\n",
    "    print(\"myString 1 is uppercase\")\n",
    "else:\n",
    "    print(\"myString1 is Not Uppercase\")\n",
    "\n",
    "myString2 = \"I AM STUDYING IN LEARNBAY\"\n",
    "\n",
    "if myString2.isupper() == True:\n",
    "    print(\"myString2 is uppercase\")\n",
    "else:\n",
    "    print(\"myString2 is Not Uppercase\")"
   ]
  },
  {
   "cell_type": "markdown",
   "metadata": {},
   "source": [
    "### Write a Program for asigning the grades for the particular marks interval by using nested IF\n",
    "Marks Between 91 - 100 is Grade A\n",
    "Marks Between 81 - 90 is Grade B\n",
    "Marks Between 71 - 80 is Grade C\n",
    "Marks Between 61 - 70 is Grade D\n",
    "otherwise F"
   ]
  },
  {
   "cell_type": "code",
   "execution_count": 23,
   "metadata": {
    "collapsed": false
   },
   "outputs": [
    {
     "name": "stdout",
     "output_type": "stream",
     "text": [
      "Enter the Marks:77\n",
      "Grade C\n"
     ]
    }
   ],
   "source": [
    "marks = int(input(\"Enter the Marks:\"))\n",
    "\n",
    "if (marks >= 91 and marks <= 100):\n",
    "    print(\"Grade A\")\n",
    "elif (marks >= 81 and marks <= 90):\n",
    "    print(\"Grade B\")\n",
    "elif (marks >= 71 and marks <= 80):\n",
    "    print(\"Grade C\")\n",
    "elif (marks >= 61 and marks <= 70):\n",
    "    print(\"Grade D\")\n",
    "else:\n",
    "    print(\"Grade F\")"
   ]
  },
  {
   "cell_type": "code",
   "execution_count": null,
   "metadata": {
    "collapsed": true
   },
   "outputs": [],
   "source": []
  }
 ],
 "metadata": {
  "kernelspec": {
   "display_name": "Python 3",
   "language": "python",
   "name": "python3"
  },
  "language_info": {
   "codemirror_mode": {
    "name": "ipython",
    "version": 3
   },
   "file_extension": ".py",
   "mimetype": "text/x-python",
   "name": "python",
   "nbconvert_exporter": "python",
   "pygments_lexer": "ipython3",
   "version": "3.6.0"
  }
 },
 "nbformat": 4,
 "nbformat_minor": 2
}
