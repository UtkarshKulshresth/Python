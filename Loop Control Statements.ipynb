{
 "cells": [
  {
   "cell_type": "markdown",
   "metadata": {},
   "source": [
    "## break statement"
   ]
  },
  {
   "cell_type": "code",
   "execution_count": 1,
   "metadata": {
    "collapsed": false
   },
   "outputs": [
    {
     "name": "stdout",
     "output_type": "stream",
     "text": [
      "Sum of first  5 integers is :  15\n"
     ]
    }
   ],
   "source": [
    "#Case 1\n",
    "numbers = (1, 2, 3, 4, 5, 6, 7, 8, 9) # Declaring the tuple  \n",
    "num_sum = 0  \n",
    "count = 0  \n",
    "for x in numbers:  \n",
    "    num_sum = num_sum + x  \n",
    "    count = count + 1   \n",
    "    if count == 5:  \n",
    "        break  \n",
    "print(\"Sum of first \",count,\"integers is : \", num_sum)  "
   ]
  },
  {
   "cell_type": "code",
   "execution_count": 2,
   "metadata": {
    "collapsed": false
   },
   "outputs": [
    {
     "name": "stdout",
     "output_type": "stream",
     "text": [
      "Current Letter : B\n",
      "Current value : 10\n",
      "Current value : 9\n",
      "Current value : 8\n",
      "Current value : 7\n",
      "Current value : 6\n"
     ]
    }
   ],
   "source": [
    "# Case 2\n",
    "for letter in 'LearnBay': \n",
    "    if letter == 'B':\n",
    "        break\n",
    "print ('Current Letter :', letter)\n",
    "  \n",
    "value = 10                \n",
    "while value > 0:              \n",
    "    print ('Current value :', value)\n",
    "    value = value -1\n",
    "    if value == 5:\n",
    "        break"
   ]
  },
  {
   "cell_type": "markdown",
   "metadata": {},
   "source": [
    "## continue statement"
   ]
  },
  {
   "cell_type": "code",
   "execution_count": 4,
   "metadata": {
    "collapsed": false
   },
   "outputs": [
    {
     "name": "stdout",
     "output_type": "stream",
     "text": [
      "Current Letter : L\n",
      "Current Letter : e\n",
      "Current Letter : a\n",
      "Current Letter : r\n",
      "Current Letter : n\n",
      "Current Letter : a\n",
      "Current Letter : y\n",
      "Current value : 9\n",
      "Current value : 8\n",
      "Current value : 7\n",
      "Current value : 6\n",
      "Current value : 4\n",
      "Current value : 3\n",
      "Current value : 2\n",
      "Current value : 1\n",
      "Current value : 0\n",
      "Done!\n"
     ]
    }
   ],
   "source": [
    "for letter in 'LearnBay':\n",
    "    if letter == 'B':\n",
    "        continue\n",
    "    print ('Current Letter :', letter)\n",
    "\n",
    "value = 10                  \n",
    "while value > 0:              \n",
    "    value = value -1\n",
    "    if value == 5:\n",
    "        continue\n",
    "    print ('Current value :', value)\n",
    "print (\"Done!\")"
   ]
  },
  {
   "cell_type": "markdown",
   "metadata": {},
   "source": [
    "## pass Statement"
   ]
  },
  {
   "cell_type": "code",
   "execution_count": 6,
   "metadata": {
    "collapsed": false
   },
   "outputs": [
    {
     "name": "stdout",
     "output_type": "stream",
     "text": [
      "Current Letter : L\n",
      "Current Letter : e\n",
      "Current Letter : a\n",
      "Current Letter : r\n",
      "Current Letter : n\n",
      "This is pass block\n",
      "Current Letter : B\n",
      "Current Letter : a\n",
      "Current Letter : y\n",
      "Done\n"
     ]
    }
   ],
   "source": [
    "for letter in 'LearnBay': \n",
    "    if letter == 'B':\n",
    "        pass\n",
    "        print ('This is pass block')\n",
    "    print ('Current Letter :', letter)\n",
    "\n",
    "print(\"Done\")"
   ]
  },
  {
   "cell_type": "code",
   "execution_count": null,
   "metadata": {
    "collapsed": true
   },
   "outputs": [],
   "source": []
  }
 ],
 "metadata": {
  "kernelspec": {
   "display_name": "Python 3",
   "language": "python",
   "name": "python3"
  },
  "language_info": {
   "codemirror_mode": {
    "name": "ipython",
    "version": 3
   },
   "file_extension": ".py",
   "mimetype": "text/x-python",
   "name": "python",
   "nbconvert_exporter": "python",
   "pygments_lexer": "ipython3",
   "version": "3.6.0"
  }
 },
 "nbformat": 4,
 "nbformat_minor": 2
}
