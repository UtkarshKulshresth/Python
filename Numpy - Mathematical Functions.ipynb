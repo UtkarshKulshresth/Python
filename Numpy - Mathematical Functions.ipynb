{
 "cells": [
  {
   "cell_type": "markdown",
   "metadata": {},
   "source": [
    "### Trigonometric Functions"
   ]
  },
  {
   "cell_type": "code",
   "execution_count": 1,
   "metadata": {
    "collapsed": false
   },
   "outputs": [
    {
     "name": "stdout",
     "output_type": "stream",
     "text": [
      "Sine of different angles:\n",
      "[ 0.          0.5         0.70710678  0.8660254   1.        ]\n",
      "\n",
      "\n",
      "Cosine values for angles in array:\n",
      "[  1.00000000e+00   8.66025404e-01   7.07106781e-01   5.00000000e-01\n",
      "   6.12323400e-17]\n",
      "\n",
      "\n",
      "Tangent values for given angles:\n",
      "[  0.00000000e+00   5.77350269e-01   1.00000000e+00   1.73205081e+00\n",
      "   1.63312394e+16]\n"
     ]
    }
   ],
   "source": [
    "import numpy as np \n",
    "a = np.array([0,30,45,60,90]) \n",
    "\n",
    "print ('Sine of different angles:') \n",
    "# Convert to radians by multiplying with pi/180 \n",
    "print (np.sin(a*np.pi/180)) \n",
    "print ('\\n')  \n",
    "\n",
    "print ('Cosine values for angles in array:') \n",
    "print (np.cos(a*np.pi/180)) \n",
    "print ('\\n')  \n",
    "\n",
    "print ('Tangent values for given angles:') \n",
    "print (np.tan(a*np.pi/180)) "
   ]
  },
  {
   "cell_type": "code",
   "execution_count": 2,
   "metadata": {
    "collapsed": false
   },
   "outputs": [
    {
     "name": "stdout",
     "output_type": "stream",
     "text": [
      "Array containing sine values:\n",
      "[ 0.          0.5         0.70710678  0.8660254   1.        ]\n",
      "\n",
      "\n",
      "Compute sine inverse of angles. Returned values are in radians.\n",
      "[ 0.          0.52359878  0.78539816  1.04719755  1.57079633]\n",
      "\n",
      "\n",
      "Check result by converting to degrees:\n",
      "[  0.  30.  45.  60.  90.]\n",
      "\n",
      "\n",
      "arccos and arctan functions behave similarly:\n",
      "[  1.00000000e+00   8.66025404e-01   7.07106781e-01   5.00000000e-01\n",
      "   6.12323400e-17]\n",
      "\n",
      "\n",
      "Inverse of cos:\n",
      "[ 0.          0.52359878  0.78539816  1.04719755  1.57079633]\n",
      "\n",
      "\n",
      "In degrees:\n",
      "[  0.  30.  45.  60.  90.]\n",
      "\n",
      "\n",
      "Tan function:\n",
      "[  0.00000000e+00   5.77350269e-01   1.00000000e+00   1.73205081e+00\n",
      "   1.63312394e+16]\n",
      "\n",
      "\n",
      "Inverse of tan:\n",
      "[ 0.          0.52359878  0.78539816  1.04719755  1.57079633]\n",
      "\n",
      "\n",
      "In degrees:\n",
      "[  0.  30.  45.  60.  90.]\n"
     ]
    }
   ],
   "source": [
    "import numpy as np \n",
    "a = np.array([0,30,45,60,90]) \n",
    "\n",
    "print ('Array containing sine values:') \n",
    "sin = np.sin(a*np.pi/180) \n",
    "print (sin) \n",
    "print ('\\n')  \n",
    "\n",
    "print ('Compute sine inverse of angles. Returned values are in radians.') \n",
    "inv = np.arcsin(sin) \n",
    "print (inv) \n",
    "print ('\\n')  \n",
    "\n",
    "print ('Check result by converting to degrees:') \n",
    "print (np.degrees(inv)) \n",
    "print ('\\n')  \n",
    "\n",
    "print ('arccos and arctan functions behave similarly:') \n",
    "cos = np.cos(a*np.pi/180) \n",
    "print (cos) \n",
    "print ('\\n')  \n",
    "\n",
    "print ('Inverse of cos:') \n",
    "inv = np.arccos(cos) \n",
    "print (inv) \n",
    "print ('\\n')  \n",
    "\n",
    "print ('In degrees:') \n",
    "print (np.degrees(inv)) \n",
    "print ('\\n')  \n",
    "\n",
    "print ('Tan function:') \n",
    "tan = np.tan(a*np.pi/180) \n",
    "print (tan)\n",
    "print ('\\n')  \n",
    "\n",
    "print ('Inverse of tan:') \n",
    "inv = np.arctan(tan) \n",
    "print (inv) \n",
    "print ('\\n')  \n",
    "\n",
    "print ('In degrees:') \n",
    "print (np.degrees(inv)) "
   ]
  },
  {
   "cell_type": "markdown",
   "metadata": {},
   "source": [
    "### Rounding"
   ]
  },
  {
   "cell_type": "code",
   "execution_count": 3,
   "metadata": {
    "collapsed": false
   },
   "outputs": [
    {
     "name": "stdout",
     "output_type": "stream",
     "text": [
      "Original array:\n",
      "[   1.       5.55   123.       0.567   25.532]\n",
      "\n",
      "\n",
      "After rounding:\n",
      "[   1.    6.  123.    1.   26.]\n",
      "[   1.     5.6  123.     0.6   25.5]\n",
      "[   0.   10.  120.    0.   30.]\n"
     ]
    }
   ],
   "source": [
    "import numpy as np \n",
    "a = np.array([1.0,5.55, 123, 0.567, 25.532]) \n",
    "\n",
    "print ('Original array:') \n",
    "print (a) \n",
    "print ('\\n')  \n",
    "\n",
    "print ('After rounding:') \n",
    "print (np.around(a)) \n",
    "print (np.around(a, decimals = 1))\n",
    "print (np.around(a, decimals = -1))"
   ]
  },
  {
   "cell_type": "code",
   "execution_count": 4,
   "metadata": {
    "collapsed": false
   },
   "outputs": [
    {
     "name": "stdout",
     "output_type": "stream",
     "text": [
      "The given array:\n",
      "[ -1.7   1.5  -0.2   0.6  10. ]\n",
      "\n",
      "\n",
      "The modified array:\n",
      "[ -2.   1.  -1.   0.  10.]\n"
     ]
    }
   ],
   "source": [
    "# Floor\n",
    "\n",
    "import numpy as np \n",
    "a = np.array([-1.7, 1.5, -0.2, 0.6, 10]) \n",
    "\n",
    "print ('The given array:')\n",
    "print (a) \n",
    "print ('\\n')  \n",
    "\n",
    "print ('The modified array:') \n",
    "print (np.floor(a))"
   ]
  },
  {
   "cell_type": "code",
   "execution_count": 5,
   "metadata": {
    "collapsed": false
   },
   "outputs": [
    {
     "name": "stdout",
     "output_type": "stream",
     "text": [
      "The given array:\n",
      "[ -1.7   1.5  -0.2   0.6  10. ]\n",
      "\n",
      "\n",
      "The modified array:\n",
      "[ -1.   2.  -0.   1.  10.]\n"
     ]
    }
   ],
   "source": [
    "# Ceil\n",
    "\n",
    "import numpy as np \n",
    "a = np.array([-1.7, 1.5, -0.2, 0.6, 10]) \n",
    "\n",
    "print ('The given array:') \n",
    "print (a) \n",
    "print ('\\n')  \n",
    "\n",
    "print ('The modified array:') \n",
    "print (np.ceil(a))"
   ]
  },
  {
   "cell_type": "markdown",
   "metadata": {},
   "source": [
    "# Arithmetic Functions"
   ]
  },
  {
   "cell_type": "code",
   "execution_count": 6,
   "metadata": {
    "collapsed": false
   },
   "outputs": [
    {
     "name": "stdout",
     "output_type": "stream",
     "text": [
      "First array:\n",
      "[[ 0.  1.  2.]\n",
      " [ 3.  4.  5.]\n",
      " [ 6.  7.  8.]]\n",
      "\n",
      "\n",
      "Second array:\n",
      "[10 10 10]\n",
      "\n",
      "\n",
      "Add the two arrays:\n",
      "[[ 10.  11.  12.]\n",
      " [ 13.  14.  15.]\n",
      " [ 16.  17.  18.]]\n",
      "\n",
      "\n",
      "Subtract the two arrays:\n",
      "[[-10.  -9.  -8.]\n",
      " [ -7.  -6.  -5.]\n",
      " [ -4.  -3.  -2.]]\n",
      "\n",
      "\n",
      "Multiply the two arrays:\n",
      "[[  0.  10.  20.]\n",
      " [ 30.  40.  50.]\n",
      " [ 60.  70.  80.]]\n",
      "\n",
      "\n",
      "Divide the two arrays:\n",
      "[[ 0.   0.1  0.2]\n",
      " [ 0.3  0.4  0.5]\n",
      " [ 0.6  0.7  0.8]]\n"
     ]
    }
   ],
   "source": [
    "import numpy as np \n",
    "a = np.arange(9, dtype = np.float_).reshape(3,3) \n",
    "\n",
    "print ('First array:') \n",
    "print (a) \n",
    "print ('\\n')  \n",
    "\n",
    "print ('Second array:') \n",
    "b = np.array([10,10,10]) \n",
    "print (b) \n",
    "print ('\\n')  \n",
    "\n",
    "print ('Add the two arrays:') \n",
    "print (np.add(a,b)) \n",
    "print ('\\n')  \n",
    "\n",
    "print ('Subtract the two arrays:') \n",
    "print (np.subtract(a,b)) \n",
    "print ('\\n' ) \n",
    "\n",
    "print ('Multiply the two arrays:' )\n",
    "print (np.multiply(a,b)) \n",
    "print ('\\n')  \n",
    "\n",
    "print ('Divide the two arrays:' )\n",
    "print (np.divide(a,b))"
   ]
  },
  {
   "cell_type": "code",
   "execution_count": 9,
   "metadata": {
    "collapsed": false
   },
   "outputs": [
    {
     "name": "stdout",
     "output_type": "stream",
     "text": [
      "Our array is:\n",
      "[   0.25    1.33    1.      0.    100.  ]\n",
      "\n",
      "\n",
      "After applying reciprocal function:\n",
      "[ 4.         0.7518797  1.               inf  0.01     ]\n"
     ]
    },
    {
     "name": "stderr",
     "output_type": "stream",
     "text": [
      "/home/utkarsh/anaconda3/lib/python3.6/site-packages/ipykernel/__main__.py:11: RuntimeWarning: divide by zero encountered in reciprocal\n"
     ]
    }
   ],
   "source": [
    "# Reciprocal\n",
    "\n",
    "import numpy as np \n",
    "a = np.array([0.25, 1.33, 1, 0, 100]) \n",
    "\n",
    "print ('Our array is:') \n",
    "print (a) \n",
    "print ('\\n')  \n",
    "\n",
    "print ('After applying reciprocal function:') \n",
    "print (np.reciprocal(a)) "
   ]
  },
  {
   "cell_type": "code",
   "execution_count": 10,
   "metadata": {
    "collapsed": false
   },
   "outputs": [
    {
     "name": "stdout",
     "output_type": "stream",
     "text": [
      "Our array is:\n",
      "[  10  100 1000]\n",
      "\n",
      "\n",
      "Applying power function:\n",
      "[    100   10000 1000000]\n",
      "\n",
      "\n",
      "Second array:\n",
      "[1 2 3]\n",
      "\n",
      "\n",
      "Applying power function again:\n",
      "[        10      10000 1000000000]\n"
     ]
    }
   ],
   "source": [
    "# Power\n",
    "\n",
    "import numpy as np \n",
    "a = np.array([10,100,1000]) \n",
    "\n",
    "print ('Our array is:') \n",
    "print (a) \n",
    "print ('\\n')  \n",
    "\n",
    "print ('Applying power function:' )\n",
    "print (np.power(a,2)) \n",
    "print ('\\n')  \n",
    "\n",
    "print ('Second array:') \n",
    "b = np.array([1,2,3]) \n",
    "print (b) \n",
    "print ('\\n')  \n",
    "\n",
    "print ('Applying power function again:' )\n",
    "print (np.power(a,b))"
   ]
  },
  {
   "cell_type": "code",
   "execution_count": null,
   "metadata": {
    "collapsed": true
   },
   "outputs": [],
   "source": []
  }
 ],
 "metadata": {
  "kernelspec": {
   "display_name": "Python 3",
   "language": "python",
   "name": "python3"
  },
  "language_info": {
   "codemirror_mode": {
    "name": "ipython",
    "version": 3
   },
   "file_extension": ".py",
   "mimetype": "text/x-python",
   "name": "python",
   "nbconvert_exporter": "python",
   "pygments_lexer": "ipython3",
   "version": "3.6.0"
  }
 },
 "nbformat": 4,
 "nbformat_minor": 2
}
