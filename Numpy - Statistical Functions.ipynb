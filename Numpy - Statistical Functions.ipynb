{
 "cells": [
  {
   "cell_type": "code",
   "execution_count": 1,
   "metadata": {
    "collapsed": false
   },
   "outputs": [
    {
     "name": "stdout",
     "output_type": "stream",
     "text": [
      "Our array is:\n",
      "[[3 7 5]\n",
      " [8 4 3]\n",
      " [2 4 9]]\n",
      "\n",
      "\n",
      "Applying amin() function:\n",
      "[3 3 2]\n",
      "\n",
      "\n",
      "Applying amin() function again:\n",
      "[2 4 3]\n",
      "\n",
      "\n",
      "Applying amax() function:\n",
      "9\n",
      "\n",
      "\n",
      "Applying amax() function again:\n",
      "[8 7 9]\n"
     ]
    }
   ],
   "source": [
    "# Minimum & Maximum\n",
    "\n",
    "import numpy as np \n",
    "a = np.array([[3,7,5],[8,4,3],[2,4,9]]) \n",
    "\n",
    "print ('Our array is:') \n",
    "print (a)  \n",
    "print ('\\n')  \n",
    "\n",
    "print ('Applying amin() function:') \n",
    "print (np.amin(a,1)) \n",
    "print ('\\n')  \n",
    "\n",
    "print ('Applying amin() function again:') \n",
    "print (np.amin(a,0)) \n",
    "print ('\\n')  \n",
    "\n",
    "print ('Applying amax() function:') \n",
    "print (np.amax(a)) \n",
    "print ('\\n')  \n",
    "\n",
    "print ('Applying amax() function again:') \n",
    "print (np.amax(a, axis = 0))"
   ]
  },
  {
   "cell_type": "code",
   "execution_count": 3,
   "metadata": {
    "collapsed": false
   },
   "outputs": [
    {
     "name": "stdout",
     "output_type": "stream",
     "text": [
      "Our array is:\n",
      "[[30 65 70]\n",
      " [80 95 10]\n",
      " [50 90 60]]\n",
      "\n",
      "\n",
      "Applying median() function:\n",
      "65.0\n",
      "\n",
      "\n",
      "Applying median() function along axis 0:\n",
      "[ 50.  90.  60.]\n",
      "\n",
      "\n",
      "Applying median() function along axis 1:\n",
      "[ 65.  80.  60.]\n"
     ]
    }
   ],
   "source": [
    "# Median\n",
    "\n",
    "import numpy as np \n",
    "a = np.array([[30,65,70],[80,95,10],[50,90,60]]) \n",
    "\n",
    "print ('Our array is:') \n",
    "print (a) \n",
    "print ('\\n')  \n",
    "\n",
    "print ('Applying median() function:')\n",
    "print (np.median(a)) \n",
    "print ('\\n')  \n",
    "\n",
    "print ('Applying median() function along axis 0:') \n",
    "print (np.median(a, axis = 0)) \n",
    "print ('\\n')  \n",
    " \n",
    "print ('Applying median() function along axis 1:' )\n",
    "print (np.median(a, axis = 1))"
   ]
  },
  {
   "cell_type": "code",
   "execution_count": 4,
   "metadata": {
    "collapsed": false
   },
   "outputs": [
    {
     "name": "stdout",
     "output_type": "stream",
     "text": [
      "Our array is:\n",
      "[[30 65 70]\n",
      " [80 95 10]\n",
      " [50 90 60]]\n",
      "\n",
      "\n",
      "Applying mean() function:\n",
      "61.1111111111\n",
      "\n",
      "\n",
      "Applying mean() function along axis 0:\n",
      "[ 53.33333333  83.33333333  46.66666667]\n",
      "\n",
      "\n",
      "Applying mean() function along axis 1:\n",
      "[ 55.          61.66666667  66.66666667]\n"
     ]
    }
   ],
   "source": [
    "# Mean\n",
    "\n",
    "import numpy as np \n",
    "a = np.array([[30,65,70],[80,95,10],[50,90,60]]) \n",
    "\n",
    "print ('Our array is:') \n",
    "print (a) \n",
    "print ('\\n')  \n",
    "\n",
    "print ('Applying mean() function:')\n",
    "print (np.mean(a)) \n",
    "print ('\\n')  \n",
    "\n",
    "print ('Applying mean() function along axis 0:') \n",
    "print (np.mean(a, axis = 0)) \n",
    "print ('\\n')  \n",
    " \n",
    "print ('Applying mean() function along axis 1:' )\n",
    "print (np.mean(a, axis = 1))"
   ]
  },
  {
   "cell_type": "code",
   "execution_count": 5,
   "metadata": {
    "collapsed": false
   },
   "outputs": [
    {
     "name": "stdout",
     "output_type": "stream",
     "text": [
      "1.11803398875\n"
     ]
    }
   ],
   "source": [
    "#Standard Deviation\n",
    "\n",
    "import numpy as np \n",
    "print (np.std([1,2,3,4]))"
   ]
  },
  {
   "cell_type": "code",
   "execution_count": 6,
   "metadata": {
    "collapsed": false
   },
   "outputs": [
    {
     "name": "stdout",
     "output_type": "stream",
     "text": [
      "1.25\n"
     ]
    }
   ],
   "source": [
    "#variance\n",
    "\n",
    "import numpy as np \n",
    "print (np.var([1,2,3,4]))"
   ]
  },
  {
   "cell_type": "code",
   "execution_count": null,
   "metadata": {
    "collapsed": true
   },
   "outputs": [],
   "source": []
  }
 ],
 "metadata": {
  "kernelspec": {
   "display_name": "Python 3",
   "language": "python",
   "name": "python3"
  },
  "language_info": {
   "codemirror_mode": {
    "name": "ipython",
    "version": 3
   },
   "file_extension": ".py",
   "mimetype": "text/x-python",
   "name": "python",
   "nbconvert_exporter": "python",
   "pygments_lexer": "ipython3",
   "version": "3.6.0"
  }
 },
 "nbformat": 4,
 "nbformat_minor": 2
}
