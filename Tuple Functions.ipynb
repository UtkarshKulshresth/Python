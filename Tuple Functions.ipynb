{
 "cells": [
  {
   "cell_type": "code",
   "execution_count": 2,
   "metadata": {
    "collapsed": false
   },
   "outputs": [
    {
     "name": "stdout",
     "output_type": "stream",
     "text": [
      "First tuple length :  3\n",
      "Second tuple length :  2\n"
     ]
    }
   ],
   "source": [
    "tuple1, tuple2 = (123, 'xyz', 'zara'), (456, 'abc')\n",
    "\n",
    "print (\"First tuple length : \", len(tuple1))\n",
    "print (\"Second tuple length : \", len(tuple2))"
   ]
  },
  {
   "cell_type": "code",
   "execution_count": 3,
   "metadata": {
    "collapsed": false
   },
   "outputs": [
    {
     "name": "stdout",
     "output_type": "stream",
     "text": [
      "Max value element :  256\n",
      "Max value element :  700\n"
     ]
    }
   ],
   "source": [
    "tuple1, tuple2 = (123, 256), (456, 700, 200)\n",
    "\n",
    "print (\"Max value element : \", max(tuple1))\n",
    "print (\"Max value element : \", max(tuple2))"
   ]
  },
  {
   "cell_type": "code",
   "execution_count": 4,
   "metadata": {
    "collapsed": false
   },
   "outputs": [
    {
     "name": "stdout",
     "output_type": "stream",
     "text": [
      "min value element :  123\n",
      "min value element :  200\n"
     ]
    }
   ],
   "source": [
    "tuple1, tuple2 = (123, 256), (456, 700, 200)\n",
    "\n",
    "print (\"min value element : \", min(tuple1))\n",
    "print (\"min value element : \", min(tuple2))"
   ]
  },
  {
   "cell_type": "code",
   "execution_count": 5,
   "metadata": {
    "collapsed": false
   },
   "outputs": [
    {
     "name": "stdout",
     "output_type": "stream",
     "text": [
      "Tuple elements :  (123, 'xyz', 'zara', 'abc')\n"
     ]
    }
   ],
   "source": [
    "aList = (123, 'xyz', 'zara', 'abc');\n",
    "aTuple = tuple(aList)\n",
    "\n",
    "print (\"Tuple elements : \", aTuple)"
   ]
  },
  {
   "cell_type": "code",
   "execution_count": null,
   "metadata": {
    "collapsed": true
   },
   "outputs": [],
   "source": []
  }
 ],
 "metadata": {
  "kernelspec": {
   "display_name": "Python 3",
   "language": "python",
   "name": "python3"
  },
  "language_info": {
   "codemirror_mode": {
    "name": "ipython",
    "version": 3
   },
   "file_extension": ".py",
   "mimetype": "text/x-python",
   "name": "python",
   "nbconvert_exporter": "python",
   "pygments_lexer": "ipython3",
   "version": "3.6.0"
  }
 },
 "nbformat": 4,
 "nbformat_minor": 2
}
